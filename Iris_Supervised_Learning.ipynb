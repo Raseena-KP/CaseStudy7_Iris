{
 "cells": [
  {
   "cell_type": "code",
   "execution_count": 1,
   "id": "70265c56",
   "metadata": {},
   "outputs": [],
   "source": [
    "import pandas as pd\n",
    "import numpy as np\n",
    "import matplotlib.pyplot as plt\n",
    "import seaborn as sns"
   ]
  },
  {
   "cell_type": "markdown",
   "id": "80765ef8",
   "metadata": {},
   "source": [
    "# 1. Read the dataset to the python environment."
   ]
  },
  {
   "cell_type": "code",
   "execution_count": 2,
   "id": "a921688d",
   "metadata": {},
   "outputs": [],
   "source": [
    "data=pd.read_excel(\"iris.xls\")"
   ]
  },
  {
   "cell_type": "code",
   "execution_count": 3,
   "id": "bcc54dee",
   "metadata": {},
   "outputs": [
    {
     "data": {
      "text/html": [
       "<div>\n",
       "<style scoped>\n",
       "    .dataframe tbody tr th:only-of-type {\n",
       "        vertical-align: middle;\n",
       "    }\n",
       "\n",
       "    .dataframe tbody tr th {\n",
       "        vertical-align: top;\n",
       "    }\n",
       "\n",
       "    .dataframe thead th {\n",
       "        text-align: right;\n",
       "    }\n",
       "</style>\n",
       "<table border=\"1\" class=\"dataframe\">\n",
       "  <thead>\n",
       "    <tr style=\"text-align: right;\">\n",
       "      <th></th>\n",
       "      <th>SL</th>\n",
       "      <th>SW</th>\n",
       "      <th>PL</th>\n",
       "      <th>PW</th>\n",
       "      <th>Classification</th>\n",
       "    </tr>\n",
       "  </thead>\n",
       "  <tbody>\n",
       "    <tr>\n",
       "      <th>0</th>\n",
       "      <td>5.1</td>\n",
       "      <td>3.5</td>\n",
       "      <td>1.4</td>\n",
       "      <td>0.2</td>\n",
       "      <td>Iris-setosa</td>\n",
       "    </tr>\n",
       "    <tr>\n",
       "      <th>1</th>\n",
       "      <td>4.9</td>\n",
       "      <td>3.0</td>\n",
       "      <td>1.4</td>\n",
       "      <td>0.2</td>\n",
       "      <td>Iris-setosa</td>\n",
       "    </tr>\n",
       "    <tr>\n",
       "      <th>2</th>\n",
       "      <td>NaN</td>\n",
       "      <td>3.2</td>\n",
       "      <td>1.3</td>\n",
       "      <td>0.2</td>\n",
       "      <td>Iris-setosa</td>\n",
       "    </tr>\n",
       "    <tr>\n",
       "      <th>3</th>\n",
       "      <td>4.6</td>\n",
       "      <td>3.1</td>\n",
       "      <td>1.5</td>\n",
       "      <td>0.2</td>\n",
       "      <td>Iris-setosa</td>\n",
       "    </tr>\n",
       "    <tr>\n",
       "      <th>4</th>\n",
       "      <td>5.0</td>\n",
       "      <td>3.6</td>\n",
       "      <td>1.4</td>\n",
       "      <td>0.2</td>\n",
       "      <td>Iris-setosa</td>\n",
       "    </tr>\n",
       "  </tbody>\n",
       "</table>\n",
       "</div>"
      ],
      "text/plain": [
       "    SL   SW   PL   PW Classification\n",
       "0  5.1  3.5  1.4  0.2    Iris-setosa\n",
       "1  4.9  3.0  1.4  0.2    Iris-setosa\n",
       "2  NaN  3.2  1.3  0.2    Iris-setosa\n",
       "3  4.6  3.1  1.5  0.2    Iris-setosa\n",
       "4  5.0  3.6  1.4  0.2    Iris-setosa"
      ]
     },
     "execution_count": 3,
     "metadata": {},
     "output_type": "execute_result"
    }
   ],
   "source": [
    "#Check for the data summary\n",
    "data.head()"
   ]
  },
  {
   "cell_type": "code",
   "execution_count": 4,
   "id": "5b0b0b40",
   "metadata": {},
   "outputs": [
    {
     "data": {
      "text/html": [
       "<div>\n",
       "<style scoped>\n",
       "    .dataframe tbody tr th:only-of-type {\n",
       "        vertical-align: middle;\n",
       "    }\n",
       "\n",
       "    .dataframe tbody tr th {\n",
       "        vertical-align: top;\n",
       "    }\n",
       "\n",
       "    .dataframe thead th {\n",
       "        text-align: right;\n",
       "    }\n",
       "</style>\n",
       "<table border=\"1\" class=\"dataframe\">\n",
       "  <thead>\n",
       "    <tr style=\"text-align: right;\">\n",
       "      <th></th>\n",
       "      <th>SL</th>\n",
       "      <th>SW</th>\n",
       "      <th>PL</th>\n",
       "      <th>PW</th>\n",
       "      <th>Classification</th>\n",
       "    </tr>\n",
       "  </thead>\n",
       "  <tbody>\n",
       "    <tr>\n",
       "      <th>145</th>\n",
       "      <td>6.7</td>\n",
       "      <td>3.0</td>\n",
       "      <td>5.2</td>\n",
       "      <td>2.3</td>\n",
       "      <td>Iris-virginica</td>\n",
       "    </tr>\n",
       "    <tr>\n",
       "      <th>146</th>\n",
       "      <td>6.3</td>\n",
       "      <td>2.5</td>\n",
       "      <td>5.0</td>\n",
       "      <td>1.9</td>\n",
       "      <td>Iris-virginica</td>\n",
       "    </tr>\n",
       "    <tr>\n",
       "      <th>147</th>\n",
       "      <td>6.5</td>\n",
       "      <td>3.0</td>\n",
       "      <td>NaN</td>\n",
       "      <td>2.0</td>\n",
       "      <td>Iris-virginica</td>\n",
       "    </tr>\n",
       "    <tr>\n",
       "      <th>148</th>\n",
       "      <td>6.2</td>\n",
       "      <td>3.4</td>\n",
       "      <td>5.4</td>\n",
       "      <td>2.3</td>\n",
       "      <td>Iris-virginica</td>\n",
       "    </tr>\n",
       "    <tr>\n",
       "      <th>149</th>\n",
       "      <td>5.9</td>\n",
       "      <td>3.0</td>\n",
       "      <td>5.1</td>\n",
       "      <td>1.8</td>\n",
       "      <td>Iris-virginica</td>\n",
       "    </tr>\n",
       "  </tbody>\n",
       "</table>\n",
       "</div>"
      ],
      "text/plain": [
       "      SL   SW   PL   PW  Classification\n",
       "145  6.7  3.0  5.2  2.3  Iris-virginica\n",
       "146  6.3  2.5  5.0  1.9  Iris-virginica\n",
       "147  6.5  3.0  NaN  2.0  Iris-virginica\n",
       "148  6.2  3.4  5.4  2.3  Iris-virginica\n",
       "149  5.9  3.0  5.1  1.8  Iris-virginica"
      ]
     },
     "execution_count": 4,
     "metadata": {},
     "output_type": "execute_result"
    }
   ],
   "source": [
    "data.tail()"
   ]
  },
  {
   "cell_type": "code",
   "execution_count": 5,
   "id": "325a323d",
   "metadata": {},
   "outputs": [
    {
     "name": "stdout",
     "output_type": "stream",
     "text": [
      "<class 'pandas.core.frame.DataFrame'>\n",
      "RangeIndex: 150 entries, 0 to 149\n",
      "Data columns (total 5 columns):\n",
      " #   Column          Non-Null Count  Dtype  \n",
      "---  ------          --------------  -----  \n",
      " 0   SL              143 non-null    float64\n",
      " 1   SW              144 non-null    float64\n",
      " 2   PL              144 non-null    float64\n",
      " 3   PW              150 non-null    float64\n",
      " 4   Classification  150 non-null    object \n",
      "dtypes: float64(4), object(1)\n",
      "memory usage: 6.0+ KB\n"
     ]
    }
   ],
   "source": [
    "data.info()"
   ]
  },
  {
   "cell_type": "code",
   "execution_count": 6,
   "id": "9cd71cab",
   "metadata": {},
   "outputs": [
    {
     "data": {
      "text/plain": [
       "(150, 5)"
      ]
     },
     "execution_count": 6,
     "metadata": {},
     "output_type": "execute_result"
    }
   ],
   "source": [
    "data.shape"
   ]
  },
  {
   "cell_type": "markdown",
   "id": "08927e3f",
   "metadata": {},
   "source": [
    "# Preprocessing"
   ]
  },
  {
   "cell_type": "markdown",
   "id": "45b94581",
   "metadata": {},
   "source": [
    "# a. Check for null values"
   ]
  },
  {
   "cell_type": "code",
   "execution_count": 7,
   "id": "84daee24",
   "metadata": {},
   "outputs": [
    {
     "data": {
      "text/plain": [
       "SL                7\n",
       "SW                6\n",
       "PL                6\n",
       "PW                0\n",
       "Classification    0\n",
       "dtype: int64"
      ]
     },
     "execution_count": 7,
     "metadata": {},
     "output_type": "execute_result"
    }
   ],
   "source": [
    "data.isna().sum()"
   ]
  },
  {
   "cell_type": "code",
   "execution_count": 8,
   "id": "ac0abc88",
   "metadata": {},
   "outputs": [
    {
     "data": {
      "text/plain": [
       "SL                float64\n",
       "SW                float64\n",
       "PL                float64\n",
       "PW                float64\n",
       "Classification     object\n",
       "dtype: object"
      ]
     },
     "execution_count": 8,
     "metadata": {},
     "output_type": "execute_result"
    }
   ],
   "source": [
    "data.dtypes"
   ]
  },
  {
   "cell_type": "markdown",
   "id": "5c81500c",
   "metadata": {},
   "source": [
    "# b. Handling Missing Values"
   ]
  },
  {
   "cell_type": "code",
   "execution_count": 9,
   "id": "c4169294",
   "metadata": {},
   "outputs": [
    {
     "data": {
      "text/plain": [
       "SL                0\n",
       "SW                0\n",
       "PL                0\n",
       "PW                0\n",
       "Classification    0\n",
       "dtype: int64"
      ]
     },
     "execution_count": 9,
     "metadata": {},
     "output_type": "execute_result"
    }
   ],
   "source": [
    "# since the missing field SL,SW & PL are continous, we will go for median to fill null values\n",
    "\n",
    "data.loc[data[\"SL\"].isna(),\"SL\"]=data[\"SL\"].median()\n",
    "data.loc[data[\"SW\"].isna(),\"SW\"]=data[\"SW\"].median()\n",
    "data.loc[data[\"PL\"].isna(),\"PL\"]=data[\"PL\"].median()\n",
    "\n",
    "# Check for the null values\n",
    "data.isna().sum()"
   ]
  },
  {
   "cell_type": "markdown",
   "id": "3690fd38",
   "metadata": {},
   "source": [
    "# c.Check for outliers"
   ]
  },
  {
   "cell_type": "code",
   "execution_count": 10,
   "id": "eddeba10",
   "metadata": {},
   "outputs": [
    {
     "data": {
      "text/html": [
       "<div>\n",
       "<style scoped>\n",
       "    .dataframe tbody tr th:only-of-type {\n",
       "        vertical-align: middle;\n",
       "    }\n",
       "\n",
       "    .dataframe tbody tr th {\n",
       "        vertical-align: top;\n",
       "    }\n",
       "\n",
       "    .dataframe thead th {\n",
       "        text-align: right;\n",
       "    }\n",
       "</style>\n",
       "<table border=\"1\" class=\"dataframe\">\n",
       "  <thead>\n",
       "    <tr style=\"text-align: right;\">\n",
       "      <th></th>\n",
       "      <th>SL</th>\n",
       "      <th>SW</th>\n",
       "      <th>PL</th>\n",
       "      <th>PW</th>\n",
       "    </tr>\n",
       "  </thead>\n",
       "  <tbody>\n",
       "    <tr>\n",
       "      <th>0</th>\n",
       "      <td>5.1</td>\n",
       "      <td>3.5</td>\n",
       "      <td>1.40</td>\n",
       "      <td>0.2</td>\n",
       "    </tr>\n",
       "    <tr>\n",
       "      <th>1</th>\n",
       "      <td>4.9</td>\n",
       "      <td>3.0</td>\n",
       "      <td>1.40</td>\n",
       "      <td>0.2</td>\n",
       "    </tr>\n",
       "    <tr>\n",
       "      <th>2</th>\n",
       "      <td>5.8</td>\n",
       "      <td>3.2</td>\n",
       "      <td>1.30</td>\n",
       "      <td>0.2</td>\n",
       "    </tr>\n",
       "    <tr>\n",
       "      <th>3</th>\n",
       "      <td>4.6</td>\n",
       "      <td>3.1</td>\n",
       "      <td>1.50</td>\n",
       "      <td>0.2</td>\n",
       "    </tr>\n",
       "    <tr>\n",
       "      <th>4</th>\n",
       "      <td>5.0</td>\n",
       "      <td>3.6</td>\n",
       "      <td>1.40</td>\n",
       "      <td>0.2</td>\n",
       "    </tr>\n",
       "    <tr>\n",
       "      <th>...</th>\n",
       "      <td>...</td>\n",
       "      <td>...</td>\n",
       "      <td>...</td>\n",
       "      <td>...</td>\n",
       "    </tr>\n",
       "    <tr>\n",
       "      <th>145</th>\n",
       "      <td>6.7</td>\n",
       "      <td>3.0</td>\n",
       "      <td>5.20</td>\n",
       "      <td>2.3</td>\n",
       "    </tr>\n",
       "    <tr>\n",
       "      <th>146</th>\n",
       "      <td>6.3</td>\n",
       "      <td>2.5</td>\n",
       "      <td>5.00</td>\n",
       "      <td>1.9</td>\n",
       "    </tr>\n",
       "    <tr>\n",
       "      <th>147</th>\n",
       "      <td>6.5</td>\n",
       "      <td>3.0</td>\n",
       "      <td>4.35</td>\n",
       "      <td>2.0</td>\n",
       "    </tr>\n",
       "    <tr>\n",
       "      <th>148</th>\n",
       "      <td>6.2</td>\n",
       "      <td>3.4</td>\n",
       "      <td>5.40</td>\n",
       "      <td>2.3</td>\n",
       "    </tr>\n",
       "    <tr>\n",
       "      <th>149</th>\n",
       "      <td>5.9</td>\n",
       "      <td>3.0</td>\n",
       "      <td>5.10</td>\n",
       "      <td>1.8</td>\n",
       "    </tr>\n",
       "  </tbody>\n",
       "</table>\n",
       "<p>150 rows × 4 columns</p>\n",
       "</div>"
      ],
      "text/plain": [
       "      SL   SW    PL   PW\n",
       "0    5.1  3.5  1.40  0.2\n",
       "1    4.9  3.0  1.40  0.2\n",
       "2    5.8  3.2  1.30  0.2\n",
       "3    4.6  3.1  1.50  0.2\n",
       "4    5.0  3.6  1.40  0.2\n",
       "..   ...  ...   ...  ...\n",
       "145  6.7  3.0  5.20  2.3\n",
       "146  6.3  2.5  5.00  1.9\n",
       "147  6.5  3.0  4.35  2.0\n",
       "148  6.2  3.4  5.40  2.3\n",
       "149  5.9  3.0  5.10  1.8\n",
       "\n",
       "[150 rows x 4 columns]"
      ]
     },
     "execution_count": 10,
     "metadata": {},
     "output_type": "execute_result"
    }
   ],
   "source": [
    "numerica_data=data.select_dtypes(include='float64')\n",
    "categorical=data.select_dtypes(include='object')\n",
    "numerica_data"
   ]
  },
  {
   "cell_type": "code",
   "execution_count": 11,
   "id": "e06654c2",
   "metadata": {},
   "outputs": [
    {
     "data": {
      "text/plain": [
       "Text(0, 0.5, 'values')"
      ]
     },
     "execution_count": 11,
     "metadata": {},
     "output_type": "execute_result"
    },
    {
     "data": {
      "image/png": "[encoded data removed]",
      "text/plain": [
       "<Figure size 1152x504 with 1 Axes>"
      ]
     },
     "metadata": {
      "needs_background": "light"
     },
     "output_type": "display_data"
    }
   ],
   "source": [
    "plt.figure(figsize=(16,7))\n",
    "numerica_data.boxplot()\n",
    "plt.title(\"Boxplot for numerical features\")\n",
    "plt.xlabel(\"Numerical Features\")\n",
    "plt.ylabel(\"values\")"
   ]
  },
  {
   "cell_type": "markdown",
   "id": "6ecd8b62",
   "metadata": {},
   "source": [
    "Notes\n",
    "1. We can see the outliers in SW column\n",
    "2. so we will handle it using IQR method"
   ]
  },
  {
   "cell_type": "markdown",
   "id": "405c09e6",
   "metadata": {},
   "source": [
    "# d. Handling of Outliers SW Feature"
   ]
  },
  {
   "cell_type": "code",
   "execution_count": 13,
   "id": "415438a0",
   "metadata": {},
   "outputs": [
    {
     "data": {
      "text/plain": [
       "<AxesSubplot:title={'center':'Boxplot of SW feature'}>"
      ]
     },
     "execution_count": 13,
     "metadata": {},
     "output_type": "execute_result"
    },
    {
     "data": {
      "image/png": "[encoded data removed]",
      "text/plain": [
       "<Figure size 432x288 with 1 Axes>"
      ]
     },
     "metadata": {
      "needs_background": "light"
     },
     "output_type": "display_data"
    }
   ],
   "source": [
    "Q1=np.percentile(data[\"SW\"],25,interpolation='midpoint')\n",
    "Q2=np.percentile(data[\"SW\"],50,interpolation='midpoint')\n",
    "Q3=np.percentile(data[\"SW\"],75,interpolation='midpoint')\n",
    "IQR=Q3-Q1\n",
    "Min_lim=Q1-(1.5*IQR)\n",
    "Max_lim=Q3+(1.5*IQR)\n",
    "data.loc[data[\"SW\"]<Min_lim,\"SW\"]=Min_lim\n",
    "data.loc[data[\"SW\"]>Max_lim,\"SW\"]=Max_lim\n",
    "\n",
    "plt.title(\"Boxplot of SW feature\")\n",
    "data[[\"SW\"]].boxplot()"
   ]
  },
  {
   "cell_type": "markdown",
   "id": "4515ec30",
   "metadata": {},
   "source": [
    "Note: outliers replaced by IQR method"
   ]
  },
  {
   "cell_type": "markdown",
   "id": "26554385",
   "metadata": {},
   "source": [
    "# e. Visualise whole data"
   ]
  },
  {
   "cell_type": "code",
   "execution_count": 14,
   "id": "df4fec15",
   "metadata": {},
   "outputs": [
    {
     "data": {
      "text/html": [
       "<div>\n",
       "<style scoped>\n",
       "    .dataframe tbody tr th:only-of-type {\n",
       "        vertical-align: middle;\n",
       "    }\n",
       "\n",
       "    .dataframe tbody tr th {\n",
       "        vertical-align: top;\n",
       "    }\n",
       "\n",
       "    .dataframe thead th {\n",
       "        text-align: right;\n",
       "    }\n",
       "</style>\n",
       "<table border=\"1\" class=\"dataframe\">\n",
       "  <thead>\n",
       "    <tr style=\"text-align: right;\">\n",
       "      <th></th>\n",
       "      <th>SL</th>\n",
       "      <th>SW</th>\n",
       "      <th>PL</th>\n",
       "      <th>PW</th>\n",
       "    </tr>\n",
       "  </thead>\n",
       "  <tbody>\n",
       "    <tr>\n",
       "      <th>count</th>\n",
       "      <td>150.000000</td>\n",
       "      <td>150.000000</td>\n",
       "      <td>150.000000</td>\n",
       "      <td>150.000000</td>\n",
       "    </tr>\n",
       "    <tr>\n",
       "      <th>mean</th>\n",
       "      <td>5.853333</td>\n",
       "      <td>3.041500</td>\n",
       "      <td>3.780000</td>\n",
       "      <td>1.198667</td>\n",
       "    </tr>\n",
       "    <tr>\n",
       "      <th>std</th>\n",
       "      <td>0.808567</td>\n",
       "      <td>0.402924</td>\n",
       "      <td>1.729424</td>\n",
       "      <td>0.763161</td>\n",
       "    </tr>\n",
       "    <tr>\n",
       "      <th>min</th>\n",
       "      <td>4.300000</td>\n",
       "      <td>2.125000</td>\n",
       "      <td>1.000000</td>\n",
       "      <td>0.100000</td>\n",
       "    </tr>\n",
       "    <tr>\n",
       "      <th>25%</th>\n",
       "      <td>5.200000</td>\n",
       "      <td>2.800000</td>\n",
       "      <td>1.600000</td>\n",
       "      <td>0.300000</td>\n",
       "    </tr>\n",
       "    <tr>\n",
       "      <th>50%</th>\n",
       "      <td>5.800000</td>\n",
       "      <td>3.000000</td>\n",
       "      <td>4.350000</td>\n",
       "      <td>1.300000</td>\n",
       "    </tr>\n",
       "    <tr>\n",
       "      <th>75%</th>\n",
       "      <td>6.400000</td>\n",
       "      <td>3.275000</td>\n",
       "      <td>5.100000</td>\n",
       "      <td>1.800000</td>\n",
       "    </tr>\n",
       "    <tr>\n",
       "      <th>max</th>\n",
       "      <td>7.900000</td>\n",
       "      <td>3.925000</td>\n",
       "      <td>6.900000</td>\n",
       "      <td>2.500000</td>\n",
       "    </tr>\n",
       "  </tbody>\n",
       "</table>\n",
       "</div>"
      ],
      "text/plain": [
       "               SL          SW          PL          PW\n",
       "count  150.000000  150.000000  150.000000  150.000000\n",
       "mean     5.853333    3.041500    3.780000    1.198667\n",
       "std      0.808567    0.402924    1.729424    0.763161\n",
       "min      4.300000    2.125000    1.000000    0.100000\n",
       "25%      5.200000    2.800000    1.600000    0.300000\n",
       "50%      5.800000    3.000000    4.350000    1.300000\n",
       "75%      6.400000    3.275000    5.100000    1.800000\n",
       "max      7.900000    3.925000    6.900000    2.500000"
      ]
     },
     "execution_count": 14,
     "metadata": {},
     "output_type": "execute_result"
    }
   ],
   "source": [
    "data.describe()"
   ]
  },
  {
   "cell_type": "code",
   "execution_count": 15,
   "id": "fdd0b414",
   "metadata": {},
   "outputs": [
    {
     "data": {
      "text/plain": [
       "<seaborn.axisgrid.PairGrid at 0x1a841cbbee0>"
      ]
     },
     "execution_count": 15,
     "metadata": {},
     "output_type": "execute_result"
    },
    {
     "data": {
      "image/png": "[encoded data removed]",
      "text/plain": [
       "<Figure size 823.25x720 with 20 Axes>"
      ]
     },
     "metadata": {
      "needs_background": "light"
     },
     "output_type": "display_data"
    }
   ],
   "source": [
    "#visualise the whole data\n",
    "sns.pairplot(data, hue=\"Classification\")"
   ]
  },
  {
   "cell_type": "markdown",
   "id": "de98b765",
   "metadata": {},
   "source": [
    "From this visualization, we can tell that iris-setosa is well separated from the other two flowers."
   ]
  },
  {
   "cell_type": "code",
   "execution_count": 16,
   "id": "2803d50c",
   "metadata": {},
   "outputs": [
    {
     "name": "stdout",
     "output_type": "stream",
     "text": [
      "Average of each feature of each class\n"
     ]
    },
    {
     "data": {
      "image/png": "[encoded data removed]",
      "text/plain": [
       "<Figure size 432x288 with 1 Axes>"
      ]
     },
     "metadata": {
      "needs_background": "light"
     },
     "output_type": "display_data"
    }
   ],
   "source": [
    "data.columns\n",
    "print(\"Average of each feature of each class\")\n",
    "data_group=data.groupby(\"Classification\")[['SL', 'SW', 'PL', 'PW']].mean()\n",
    "data_group.plot.bar(rot=0)\n",
    "plt.show()"
   ]
  },
  {
   "cell_type": "markdown",
   "id": "969cd33c",
   "metadata": {},
   "source": [
    "Note:  verginica is the longest and setosa is the shortest flower."
   ]
  },
  {
   "cell_type": "markdown",
   "id": "6e7b2564",
   "metadata": {},
   "source": [
    "# f. Label encode the target feature"
   ]
  },
  {
   "cell_type": "code",
   "execution_count": 17,
   "id": "f754c277",
   "metadata": {},
   "outputs": [],
   "source": [
    "from sklearn.preprocessing import LabelEncoder"
   ]
  },
  {
   "cell_type": "code",
   "execution_count": 18,
   "id": "a5c0d8fd",
   "metadata": {},
   "outputs": [
    {
     "data": {
      "text/plain": [
       "0    50\n",
       "1    50\n",
       "2    50\n",
       "Name: Classification, dtype: int64"
      ]
     },
     "execution_count": 18,
     "metadata": {},
     "output_type": "execute_result"
    }
   ],
   "source": [
    "lbl=LabelEncoder()\n",
    "data[\"Classification\"]=pd.DataFrame(lbl.fit_transform(data[\"Classification\"]))\n",
    "data[\"Classification\"].value_counts()"
   ]
  },
  {
   "cell_type": "code",
   "execution_count": 19,
   "id": "09147aa0",
   "metadata": {},
   "outputs": [
    {
     "data": {
      "text/plain": [
       "SL                float64\n",
       "SW                float64\n",
       "PL                float64\n",
       "PW                float64\n",
       "Classification      int32\n",
       "dtype: object"
      ]
     },
     "execution_count": 19,
     "metadata": {},
     "output_type": "execute_result"
    }
   ],
   "source": [
    "data.dtypes"
   ]
  },
  {
   "cell_type": "code",
   "execution_count": 20,
   "id": "bbfbf27e",
   "metadata": {},
   "outputs": [],
   "source": [
    "##"
   ]
  },
  {
   "cell_type": "code",
   "execution_count": 21,
   "id": "a99ddc67",
   "metadata": {},
   "outputs": [],
   "source": [
    "##"
   ]
  },
  {
   "cell_type": "markdown",
   "id": "5e510abf",
   "metadata": {},
   "source": [
    "# Feature Engineering"
   ]
  },
  {
   "cell_type": "code",
   "execution_count": 22,
   "id": "0bee2dd5",
   "metadata": {},
   "outputs": [],
   "source": [
    "data[\"SL to SW ratio\"]=data[\"SL\"]/data[\"SW\"]\n",
    "data[\"PL to PW ratio\"]=data[\"PL\"]/data[\"PW\"]\n",
    "data[\"SL to PL ratio\"]=data[\"SL\"]/data[\"PL\"]\n",
    "data[\"SW to PW ratio\"]=data[\"SW\"]/data[\"PW\"]"
   ]
  },
  {
   "cell_type": "code",
   "execution_count": 23,
   "id": "f9bcd2b7",
   "metadata": {},
   "outputs": [
    {
     "data": {
      "text/html": [
       "<div>\n",
       "<style scoped>\n",
       "    .dataframe tbody tr th:only-of-type {\n",
       "        vertical-align: middle;\n",
       "    }\n",
       "\n",
       "    .dataframe tbody tr th {\n",
       "        vertical-align: top;\n",
       "    }\n",
       "\n",
       "    .dataframe thead th {\n",
       "        text-align: right;\n",
       "    }\n",
       "</style>\n",
       "<table border=\"1\" class=\"dataframe\">\n",
       "  <thead>\n",
       "    <tr style=\"text-align: right;\">\n",
       "      <th></th>\n",
       "      <th>SL</th>\n",
       "      <th>SW</th>\n",
       "      <th>PL</th>\n",
       "      <th>PW</th>\n",
       "      <th>Classification</th>\n",
       "      <th>SL to SW ratio</th>\n",
       "      <th>PL to PW ratio</th>\n",
       "      <th>SL to PL ratio</th>\n",
       "      <th>SW to PW ratio</th>\n",
       "    </tr>\n",
       "  </thead>\n",
       "  <tbody>\n",
       "    <tr>\n",
       "      <th>0</th>\n",
       "      <td>5.1</td>\n",
       "      <td>3.5</td>\n",
       "      <td>1.4</td>\n",
       "      <td>0.2</td>\n",
       "      <td>0</td>\n",
       "      <td>1.457143</td>\n",
       "      <td>7.0</td>\n",
       "      <td>3.642857</td>\n",
       "      <td>17.5</td>\n",
       "    </tr>\n",
       "    <tr>\n",
       "      <th>1</th>\n",
       "      <td>4.9</td>\n",
       "      <td>3.0</td>\n",
       "      <td>1.4</td>\n",
       "      <td>0.2</td>\n",
       "      <td>0</td>\n",
       "      <td>1.633333</td>\n",
       "      <td>7.0</td>\n",
       "      <td>3.500000</td>\n",
       "      <td>15.0</td>\n",
       "    </tr>\n",
       "    <tr>\n",
       "      <th>2</th>\n",
       "      <td>5.8</td>\n",
       "      <td>3.2</td>\n",
       "      <td>1.3</td>\n",
       "      <td>0.2</td>\n",
       "      <td>0</td>\n",
       "      <td>1.812500</td>\n",
       "      <td>6.5</td>\n",
       "      <td>4.461538</td>\n",
       "      <td>16.0</td>\n",
       "    </tr>\n",
       "    <tr>\n",
       "      <th>3</th>\n",
       "      <td>4.6</td>\n",
       "      <td>3.1</td>\n",
       "      <td>1.5</td>\n",
       "      <td>0.2</td>\n",
       "      <td>0</td>\n",
       "      <td>1.483871</td>\n",
       "      <td>7.5</td>\n",
       "      <td>3.066667</td>\n",
       "      <td>15.5</td>\n",
       "    </tr>\n",
       "    <tr>\n",
       "      <th>4</th>\n",
       "      <td>5.0</td>\n",
       "      <td>3.6</td>\n",
       "      <td>1.4</td>\n",
       "      <td>0.2</td>\n",
       "      <td>0</td>\n",
       "      <td>1.388889</td>\n",
       "      <td>7.0</td>\n",
       "      <td>3.571429</td>\n",
       "      <td>18.0</td>\n",
       "    </tr>\n",
       "  </tbody>\n",
       "</table>\n",
       "</div>"
      ],
      "text/plain": [
       "    SL   SW   PL   PW  Classification  SL to SW ratio  PL to PW ratio  \\\n",
       "0  5.1  3.5  1.4  0.2               0        1.457143             7.0   \n",
       "1  4.9  3.0  1.4  0.2               0        1.633333             7.0   \n",
       "2  5.8  3.2  1.3  0.2               0        1.812500             6.5   \n",
       "3  4.6  3.1  1.5  0.2               0        1.483871             7.5   \n",
       "4  5.0  3.6  1.4  0.2               0        1.388889             7.0   \n",
       "\n",
       "   SL to PL ratio  SW to PW ratio  \n",
       "0        3.642857            17.5  \n",
       "1        3.500000            15.0  \n",
       "2        4.461538            16.0  \n",
       "3        3.066667            15.5  \n",
       "4        3.571429            18.0  "
      ]
     },
     "execution_count": 23,
     "metadata": {},
     "output_type": "execute_result"
    }
   ],
   "source": [
    "data.head()"
   ]
  },
  {
   "cell_type": "markdown",
   "id": "cf5895e4",
   "metadata": {},
   "source": [
    "# Split the Data into dependent & independent variable"
   ]
  },
  {
   "cell_type": "code",
   "execution_count": 47,
   "id": "8c7919bb",
   "metadata": {},
   "outputs": [
    {
     "data": {
      "text/plain": [
       "0      0\n",
       "1      0\n",
       "2      0\n",
       "3      0\n",
       "4      0\n",
       "      ..\n",
       "145    2\n",
       "146    2\n",
       "147    2\n",
       "148    2\n",
       "149    2\n",
       "Name: Classification, Length: 150, dtype: int32"
      ]
     },
     "execution_count": 47,
     "metadata": {},
     "output_type": "execute_result"
    }
   ],
   "source": [
    "y=data[\"Classification\"]\n",
    "x=data.drop(\"Classification\", axis=1)\n",
    "y"
   ]
  },
  {
   "cell_type": "markdown",
   "id": "9cdbafd3",
   "metadata": {},
   "source": [
    "# Apply Standard Scaling"
   ]
  },
  {
   "cell_type": "code",
   "execution_count": 26,
   "id": "b888af6c",
   "metadata": {},
   "outputs": [],
   "source": [
    "from sklearn.preprocessing import StandardScaler"
   ]
  },
  {
   "cell_type": "code",
   "execution_count": 30,
   "id": "666bc7ab",
   "metadata": {},
   "outputs": [],
   "source": [
    "std=StandardScaler()\n",
    "x=pd.DataFrame(std.fit_transform(x),columns=x.columns)"
   ]
  },
  {
   "cell_type": "code",
   "execution_count": 31,
   "id": "39e305af",
   "metadata": {},
   "outputs": [
    {
     "data": {
      "text/html": [
       "<div>\n",
       "<style scoped>\n",
       "    .dataframe tbody tr th:only-of-type {\n",
       "        vertical-align: middle;\n",
       "    }\n",
       "\n",
       "    .dataframe tbody tr th {\n",
       "        vertical-align: top;\n",
       "    }\n",
       "\n",
       "    .dataframe thead th {\n",
       "        text-align: right;\n",
       "    }\n",
       "</style>\n",
       "<table border=\"1\" class=\"dataframe\">\n",
       "  <thead>\n",
       "    <tr style=\"text-align: right;\">\n",
       "      <th></th>\n",
       "      <th>SL</th>\n",
       "      <th>SW</th>\n",
       "      <th>PL</th>\n",
       "      <th>PW</th>\n",
       "      <th>SL to SW ratio</th>\n",
       "      <th>PL to PW ratio</th>\n",
       "      <th>SL to PL ratio</th>\n",
       "      <th>SW to PW ratio</th>\n",
       "    </tr>\n",
       "  </thead>\n",
       "  <tbody>\n",
       "    <tr>\n",
       "      <th>0</th>\n",
       "      <td>-0.934811</td>\n",
       "      <td>1.141745</td>\n",
       "      <td>-1.380791</td>\n",
       "      <td>-1.312977</td>\n",
       "      <td>-1.318195</td>\n",
       "      <td>0.738199</td>\n",
       "      <td>1.543937</td>\n",
       "      <td>1.375777</td>\n",
       "    </tr>\n",
       "    <tr>\n",
       "      <th>1</th>\n",
       "      <td>-1.182990</td>\n",
       "      <td>-0.103342</td>\n",
       "      <td>-1.380791</td>\n",
       "      <td>-1.312977</td>\n",
       "      <td>-0.857697</td>\n",
       "      <td>0.738199</td>\n",
       "      <td>1.409709</td>\n",
       "      <td>1.059476</td>\n",
       "    </tr>\n",
       "    <tr>\n",
       "      <th>2</th>\n",
       "      <td>-0.066181</td>\n",
       "      <td>0.394692</td>\n",
       "      <td>-1.438808</td>\n",
       "      <td>-1.312977</td>\n",
       "      <td>-0.389420</td>\n",
       "      <td>0.586992</td>\n",
       "      <td>2.313165</td>\n",
       "      <td>1.185996</td>\n",
       "    </tr>\n",
       "    <tr>\n",
       "      <th>3</th>\n",
       "      <td>-1.555260</td>\n",
       "      <td>0.145675</td>\n",
       "      <td>-1.322775</td>\n",
       "      <td>-1.312977</td>\n",
       "      <td>-1.248337</td>\n",
       "      <td>0.889406</td>\n",
       "      <td>1.002552</td>\n",
       "      <td>1.122736</td>\n",
       "    </tr>\n",
       "    <tr>\n",
       "      <th>4</th>\n",
       "      <td>-1.058900</td>\n",
       "      <td>1.390762</td>\n",
       "      <td>-1.380791</td>\n",
       "      <td>-1.312977</td>\n",
       "      <td>-1.496586</td>\n",
       "      <td>0.738199</td>\n",
       "      <td>1.476823</td>\n",
       "      <td>1.439037</td>\n",
       "    </tr>\n",
       "    <tr>\n",
       "      <th>...</th>\n",
       "      <td>...</td>\n",
       "      <td>...</td>\n",
       "      <td>...</td>\n",
       "      <td>...</td>\n",
       "      <td>...</td>\n",
       "      <td>...</td>\n",
       "      <td>...</td>\n",
       "      <td>...</td>\n",
       "    </tr>\n",
       "    <tr>\n",
       "      <th>145</th>\n",
       "      <td>1.050628</td>\n",
       "      <td>-0.103342</td>\n",
       "      <td>0.823834</td>\n",
       "      <td>1.447956</td>\n",
       "      <td>0.710485</td>\n",
       "      <td>-0.694980</td>\n",
       "      <td>-0.668239</td>\n",
       "      <td>-0.673300</td>\n",
       "    </tr>\n",
       "    <tr>\n",
       "      <th>146</th>\n",
       "      <td>0.554268</td>\n",
       "      <td>-1.348429</td>\n",
       "      <td>0.707801</td>\n",
       "      <td>0.922064</td>\n",
       "      <td>1.459728</td>\n",
       "      <td>-0.582872</td>\n",
       "      <td>-0.694982</td>\n",
       "      <td>-0.671852</td>\n",
       "    </tr>\n",
       "    <tr>\n",
       "      <th>147</th>\n",
       "      <td>0.802448</td>\n",
       "      <td>-0.103342</td>\n",
       "      <td>0.330694</td>\n",
       "      <td>1.053537</td>\n",
       "      <td>0.536243</td>\n",
       "      <td>-0.720948</td>\n",
       "      <td>-0.474879</td>\n",
       "      <td>-0.648546</td>\n",
       "    </tr>\n",
       "    <tr>\n",
       "      <th>148</th>\n",
       "      <td>0.430178</td>\n",
       "      <td>0.892727</td>\n",
       "      <td>0.939866</td>\n",
       "      <td>1.447956</td>\n",
       "      <td>-0.360593</td>\n",
       "      <td>-0.668683</td>\n",
       "      <td>-0.800077</td>\n",
       "      <td>-0.651296</td>\n",
       "    </tr>\n",
       "    <tr>\n",
       "      <th>149</th>\n",
       "      <td>0.057909</td>\n",
       "      <td>-0.103342</td>\n",
       "      <td>0.765817</td>\n",
       "      <td>0.790591</td>\n",
       "      <td>0.013515</td>\n",
       "      <td>-0.521859</td>\n",
       "      <td>-0.791889</td>\n",
       "      <td>-0.627459</td>\n",
       "    </tr>\n",
       "  </tbody>\n",
       "</table>\n",
       "<p>150 rows × 8 columns</p>\n",
       "</div>"
      ],
      "text/plain": [
       "           SL        SW        PL        PW  SL to SW ratio  PL to PW ratio  \\\n",
       "0   -0.934811  1.141745 -1.380791 -1.312977       -1.318195        0.738199   \n",
       "1   -1.182990 -0.103342 -1.380791 -1.312977       -0.857697        0.738199   \n",
       "2   -0.066181  0.394692 -1.438808 -1.312977       -0.389420        0.586992   \n",
       "3   -1.555260  0.145675 -1.322775 -1.312977       -1.248337        0.889406   \n",
       "4   -1.058900  1.390762 -1.380791 -1.312977       -1.496586        0.738199   \n",
       "..        ...       ...       ...       ...             ...             ...   \n",
       "145  1.050628 -0.103342  0.823834  1.447956        0.710485       -0.694980   \n",
       "146  0.554268 -1.348429  0.707801  0.922064        1.459728       -0.582872   \n",
       "147  0.802448 -0.103342  0.330694  1.053537        0.536243       -0.720948   \n",
       "148  0.430178  0.892727  0.939866  1.447956       -0.360593       -0.668683   \n",
       "149  0.057909 -0.103342  0.765817  0.790591        0.013515       -0.521859   \n",
       "\n",
       "     SL to PL ratio  SW to PW ratio  \n",
       "0          1.543937        1.375777  \n",
       "1          1.409709        1.059476  \n",
       "2          2.313165        1.185996  \n",
       "3          1.002552        1.122736  \n",
       "4          1.476823        1.439037  \n",
       "..              ...             ...  \n",
       "145       -0.668239       -0.673300  \n",
       "146       -0.694982       -0.671852  \n",
       "147       -0.474879       -0.648546  \n",
       "148       -0.800077       -0.651296  \n",
       "149       -0.791889       -0.627459  \n",
       "\n",
       "[150 rows x 8 columns]"
      ]
     },
     "execution_count": 31,
     "metadata": {},
     "output_type": "execute_result"
    }
   ],
   "source": [
    "x"
   ]
  },
  {
   "cell_type": "markdown",
   "id": "15c45d88",
   "metadata": {},
   "source": [
    "# Split the data into train & test data"
   ]
  },
  {
   "cell_type": "code",
   "execution_count": 116,
   "id": "09b9fdb4",
   "metadata": {},
   "outputs": [],
   "source": [
    "from sklearn.model_selection import train_test_split\n",
    "x_train,x_test,y_train,y_test=train_test_split(x,y,test_size=0.2,random_state=42)"
   ]
  },
  {
   "cell_type": "code",
   "execution_count": 84,
   "id": "c72c4b8c",
   "metadata": {},
   "outputs": [
    {
     "data": {
      "text/plain": [
       "(120, 8)"
      ]
     },
     "execution_count": 84,
     "metadata": {},
     "output_type": "execute_result"
    }
   ],
   "source": [
    "x_train.shape"
   ]
  },
  {
   "cell_type": "code",
   "execution_count": 85,
   "id": "a84c8ca6",
   "metadata": {},
   "outputs": [
    {
     "data": {
      "text/plain": [
       "(30, 8)"
      ]
     },
     "execution_count": 85,
     "metadata": {},
     "output_type": "execute_result"
    }
   ],
   "source": [
    "x_test.shape"
   ]
  },
  {
   "cell_type": "code",
   "execution_count": 86,
   "id": "a7dd5267",
   "metadata": {},
   "outputs": [
    {
     "data": {
      "text/plain": [
       "(120,)"
      ]
     },
     "execution_count": 86,
     "metadata": {},
     "output_type": "execute_result"
    }
   ],
   "source": [
    "y_train.shape"
   ]
  },
  {
   "cell_type": "code",
   "execution_count": 87,
   "id": "ef90f733",
   "metadata": {},
   "outputs": [
    {
     "data": {
      "text/plain": [
       "(30,)"
      ]
     },
     "execution_count": 87,
     "metadata": {},
     "output_type": "execute_result"
    }
   ],
   "source": [
    "y_test.shape"
   ]
  },
  {
   "cell_type": "markdown",
   "id": "5cdb6a9f",
   "metadata": {},
   "source": [
    "# Build the Different Model"
   ]
  },
  {
   "cell_type": "markdown",
   "id": "e056d732",
   "metadata": {},
   "source": [
    "# 1.  Random Forest"
   ]
  },
  {
   "cell_type": "code",
   "execution_count": 103,
   "id": "8be9c8aa",
   "metadata": {},
   "outputs": [],
   "source": [
    "from sklearn.ensemble import RandomForestClassifier\n",
    "from sklearn.metrics import f1_score, confusion_matrix"
   ]
  },
  {
   "cell_type": "code",
   "execution_count": 117,
   "id": "b9f63437",
   "metadata": {},
   "outputs": [
    {
     "name": "stdout",
     "output_type": "stream",
     "text": [
      "f1 score for Random Forest Model: 1.0\n"
     ]
    }
   ],
   "source": [
    "r=[]\n",
    "rd=RandomForestClassifier()\n",
    "rd.fit(x_train,y_train)\n",
    "y_pred=rd.predict(x_test)\n",
    "f1=f1_score(y_test,y_pred,average='micro')\n",
    "r.append(f1)\n",
    "print(\"f1 score for Random Forest Model:\",f1)"
   ]
  },
  {
   "cell_type": "code",
   "execution_count": 90,
   "id": "a2a3557c",
   "metadata": {},
   "outputs": [
    {
     "data": {
      "text/plain": [
       "array([[10,  0,  0],\n",
       "       [ 0,  9,  0],\n",
       "       [ 0,  0, 11]], dtype=int64)"
      ]
     },
     "execution_count": 90,
     "metadata": {},
     "output_type": "execute_result"
    }
   ],
   "source": [
    "confusion_matrix(y_pred, y_test)"
   ]
  },
  {
   "cell_type": "markdown",
   "id": "334402d2",
   "metadata": {},
   "source": [
    "# check for the Feature Importance"
   ]
  },
  {
   "cell_type": "code",
   "execution_count": 55,
   "id": "07cea4d9",
   "metadata": {},
   "outputs": [
    {
     "data": {
      "text/plain": [
       "PW                24.667560\n",
       "SW to PW ratio    23.035446\n",
       "PL                20.616047\n",
       "SL to PL ratio    12.554085\n",
       "PL to PW ratio     8.119605\n",
       "SL to SW ratio     7.226108\n",
       "SL                 3.354633\n",
       "SW                 0.426516\n",
       "dtype: float64"
      ]
     },
     "execution_count": 55,
     "metadata": {},
     "output_type": "execute_result"
    }
   ],
   "source": [
    "pd.Series(rd.feature_importances_,index=x.columns).sort_values(ascending=False)*100"
   ]
  },
  {
   "cell_type": "markdown",
   "id": "ad2f5603",
   "metadata": {},
   "source": [
    "# 2. KNN Model"
   ]
  },
  {
   "cell_type": "code",
   "execution_count": 105,
   "id": "5e71c496",
   "metadata": {},
   "outputs": [
    {
     "data": {
      "text/plain": [
       "Text(0, 0.5, 'Accuracy')"
      ]
     },
     "execution_count": 105,
     "metadata": {},
     "output_type": "execute_result"
    },
    {
     "data": {
      "image/png": "[encoded data removed]",
      "text/plain": [
       "<Figure size 360x360 with 1 Axes>"
      ]
     },
     "metadata": {
      "needs_background": "light"
     },
     "output_type": "display_data"
    }
   ],
   "source": [
    "# Find find a best value for K\n",
    "from sklearn.neighbors import KNeighborsClassifier\n",
    "from sklearn.metrics import accuracy_score,precision_score,recall_score\n",
    "\n",
    "lim=np.arange(5,20)\n",
    "accc=[]\n",
    "\n",
    "for i in lim:\n",
    "    knn_obj=KNeighborsClassifier(n_neighbors=i, metric=\"minkowski\")\n",
    "    knn_obj.fit(x_train,y_train)\n",
    "    y_pred=rd.predict(x_test)\n",
    "    acc=accuracy_score(y_test,y_pred)\n",
    "    accc.append(acc)\n",
    "\n",
    "plt.figure(figsize=(5,5))\n",
    "plt.plot(lim,accc,'-o')\n",
    "plt.xlabel(\"K-value\")\n",
    "plt.ylabel(\"Accuracy\")"
   ]
  },
  {
   "cell_type": "markdown",
   "id": "5dcdf582",
   "metadata": {},
   "source": [
    "note: Accuracy is same for all the K values, sp we can choose any of that range"
   ]
  },
  {
   "cell_type": "code",
   "execution_count": 118,
   "id": "afad349b",
   "metadata": {},
   "outputs": [
    {
     "name": "stdout",
     "output_type": "stream",
     "text": [
      "f1 score for KNN Model: 0.9666666666666667\n"
     ]
    }
   ],
   "source": [
    "# Builiding KNN Model with K value=7\n",
    "\n",
    "knn_obj=KNeighborsClassifier(n_neighbors=7, metric=\"minkowski\")\n",
    "knn_obj.fit(x_train,y_train)\n",
    "y_pred=knn_obj.predict(x_test)\n",
    "f1=f1_score(y_test,y_pred,average='micro')\n",
    "r.append(f1)\n",
    "print(\"f1 score for KNN Model:\",f1)"
   ]
  },
  {
   "cell_type": "markdown",
   "id": "32b046b3",
   "metadata": {},
   "source": [
    "# 3.LOgistic Regression"
   ]
  },
  {
   "cell_type": "code",
   "execution_count": 65,
   "id": "9deb0921",
   "metadata": {},
   "outputs": [],
   "source": [
    "from sklearn.linear_model import LogisticRegression"
   ]
  },
  {
   "cell_type": "code",
   "execution_count": 119,
   "id": "afd889e9",
   "metadata": {},
   "outputs": [
    {
     "name": "stdout",
     "output_type": "stream",
     "text": [
      "f1 score for Logistic Regression Model: 0.9666666666666667\n"
     ]
    },
    {
     "name": "stderr",
     "output_type": "stream",
     "text": [
      "C:\\Users\\raseena.ppallintakat\\Anaconda3\\lib\\site-packages\\sklearn\\linear_model\\_logistic.py:814: ConvergenceWarning: lbfgs failed to converge (status=1):\n",
      "STOP: TOTAL NO. of ITERATIONS REACHED LIMIT.\n",
      "\n",
      "Increase the number of iterations (max_iter) or scale the data as shown in:\n",
      "    https://scikit-learn.org/stable/modules/preprocessing.html\n",
      "Please also refer to the documentation for alternative solver options:\n",
      "    https://scikit-learn.org/stable/modules/linear_model.html#logistic-regression\n",
      "  n_iter_i = _check_optimize_result(\n"
     ]
    }
   ],
   "source": [
    "lg=LogisticRegression()\n",
    "lg.fit(x_train,y_train)\n",
    "y_pred=lg.predict(x_test)\n",
    "f1=f1_score(y_test,y_pred,average='micro')\n",
    "r.append(f1)\n",
    "print(\"f1 score for Logistic Regression Model:\",f1)"
   ]
  },
  {
   "cell_type": "markdown",
   "id": "044a3a42",
   "metadata": {},
   "source": [
    "# 4. SVM Model"
   ]
  },
  {
   "cell_type": "code",
   "execution_count": 69,
   "id": "e6ab5faf",
   "metadata": {},
   "outputs": [],
   "source": [
    "from sklearn.svm import SVC"
   ]
  },
  {
   "cell_type": "code",
   "execution_count": 120,
   "id": "709d6d6c",
   "metadata": {},
   "outputs": [
    {
     "name": "stdout",
     "output_type": "stream",
     "text": [
      "f1 score for SVM Model: 1.0\n"
     ]
    }
   ],
   "source": [
    "svm_obj=SVC()\n",
    "svm_obj.fit(x_train,y_train)\n",
    "y_pred=svm_obj.predict(x_test)\n",
    "f1=f1_score(y_test,y_pred,average='micro')\n",
    "r.append(f1)\n",
    "print(\"f1 score for SVM Model:\",f1)"
   ]
  },
  {
   "cell_type": "markdown",
   "id": "43b2e935",
   "metadata": {},
   "source": [
    "# 5. Decision Tree"
   ]
  },
  {
   "cell_type": "code",
   "execution_count": 121,
   "id": "0b0a4bbe",
   "metadata": {},
   "outputs": [
    {
     "name": "stdout",
     "output_type": "stream",
     "text": [
      "f1 score for SVM Model: 0.9666666666666667\n"
     ]
    }
   ],
   "source": [
    "from sklearn.tree import DecisionTreeClassifier\n",
    "dct_obj=DecisionTreeClassifier()\n",
    "dct_obj.fit(x_train,y_train)\n",
    "y_pred=dct_obj.predict(x_test)\n",
    "f1=f1_score(y_test,y_pred,average='micro')\n",
    "r.append(f1)\n",
    "print(\"f1 score for SVM Model:\",f1)"
   ]
  },
  {
   "cell_type": "markdown",
   "id": "444edf26",
   "metadata": {},
   "source": [
    "# 6. Gradient Boosting"
   ]
  },
  {
   "cell_type": "code",
   "execution_count": 122,
   "id": "178c851d",
   "metadata": {},
   "outputs": [
    {
     "name": "stdout",
     "output_type": "stream",
     "text": [
      "f1 score for SVM Model: 0.9666666666666667\n"
     ]
    }
   ],
   "source": [
    "from sklearn.ensemble import GradientBoostingClassifier\n",
    "gb_obj=GradientBoostingClassifier()\n",
    "gb_obj.fit(x_train,y_train)\n",
    "y_pred=gb_obj.predict(x_test)\n",
    "f1=f1_score(y_test,y_pred,average='micro')\n",
    "r.append(f1)\n",
    "print(\"f1 score for SVM Model:\",f1)"
   ]
  },
  {
   "cell_type": "code",
   "execution_count": 123,
   "id": "3a2525e0",
   "metadata": {},
   "outputs": [
    {
     "data": {
      "text/html": [
       "<div>\n",
       "<style scoped>\n",
       "    .dataframe tbody tr th:only-of-type {\n",
       "        vertical-align: middle;\n",
       "    }\n",
       "\n",
       "    .dataframe tbody tr th {\n",
       "        vertical-align: top;\n",
       "    }\n",
       "\n",
       "    .dataframe thead th {\n",
       "        text-align: right;\n",
       "    }\n",
       "</style>\n",
       "<table border=\"1\" class=\"dataframe\">\n",
       "  <thead>\n",
       "    <tr style=\"text-align: right;\">\n",
       "      <th></th>\n",
       "      <th>0</th>\n",
       "    </tr>\n",
       "  </thead>\n",
       "  <tbody>\n",
       "    <tr>\n",
       "      <th>Random Forest</th>\n",
       "      <td>1.000000</td>\n",
       "    </tr>\n",
       "    <tr>\n",
       "      <th>KNN</th>\n",
       "      <td>0.966667</td>\n",
       "    </tr>\n",
       "    <tr>\n",
       "      <th>Logistic Regression</th>\n",
       "      <td>0.966667</td>\n",
       "    </tr>\n",
       "    <tr>\n",
       "      <th>SVM</th>\n",
       "      <td>1.000000</td>\n",
       "    </tr>\n",
       "    <tr>\n",
       "      <th>Decision Tree</th>\n",
       "      <td>0.966667</td>\n",
       "    </tr>\n",
       "    <tr>\n",
       "      <th>Gradient Boosting</th>\n",
       "      <td>0.966667</td>\n",
       "    </tr>\n",
       "  </tbody>\n",
       "</table>\n",
       "</div>"
      ],
      "text/plain": [
       "                            0\n",
       "Random Forest        1.000000\n",
       "KNN                  0.966667\n",
       "Logistic Regression  0.966667\n",
       "SVM                  1.000000\n",
       "Decision Tree        0.966667\n",
       "Gradient Boosting    0.966667"
      ]
     },
     "execution_count": 123,
     "metadata": {},
     "output_type": "execute_result"
    }
   ],
   "source": [
    "r=pd.DataFrame(r, index=[\"Random Forest\",\"KNN\",\"Logistic Regression\",\"SVM\",\"Decision Tree\",\"Gradient Boosting\"])\n",
    "r"
   ]
  },
  {
   "cell_type": "code",
   "execution_count": null,
   "id": "108895a7",
   "metadata": {},
   "outputs": [],
   "source": [
    "Note: \n",
    "    \n",
    "1. F1 score is 1 for Random Forest, SVM & Decision Tree Model\n",
    "2. so we can go for any of these"
   ]
  }
 ],
 "metadata": {
  "kernelspec": {
   "display_name": "Python 3 (ipykernel)",
   "language": "python",
   "name": "python3"
  },
  "language_info": {
   "codemirror_mode": {
    "name": "ipython",
    "version": 3
   },
   "file_extension": ".py",
   "mimetype": "text/x-python",
   "name": "python",
   "nbconvert_exporter": "python",
   "pygments_lexer": "ipython3",
   "version": "3.9.12"
  }
 },
 "nbformat": 4,
 "nbformat_minor": 5
}
